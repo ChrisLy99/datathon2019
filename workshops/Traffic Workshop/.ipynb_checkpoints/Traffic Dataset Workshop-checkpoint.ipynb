{
 "cells": [
  {
   "cell_type": "markdown",
   "metadata": {},
   "source": [
    "# Traffic Collisions Dataset"
   ]
  },
  {
   "cell_type": "markdown",
   "metadata": {},
   "source": [
    "### Welcome to DS3's first datathon!"
   ]
  },
  {
   "cell_type": "markdown",
   "metadata": {},
   "source": [
    "This is going to be a summary of the traffic collisions dataset, as well as an intro to Pandas, Matplotlib, and Sci-kit learn to give you some jumping off points of what you could do.\n",
    "\n",
    "This data is from the city of San Diego's open data portal, https://data.sandiego.gov/.  This is real data relating to San Diego traffic and collisions that you will be able to work with.\n",
    "\n",
    "Collisions: https://data.sandiego.gov/datasets/police-collisions/\n",
    "\n",
    "Traffic Volumes: https://data.sandiego.gov/datasets/traffic-volumes/"
   ]
  },
  {
   "cell_type": "code",
   "execution_count": 2,
   "metadata": {},
   "outputs": [],
   "source": [
    "import pandas as pd\n",
    "import numpy as np\n",
    "import matplotlib.pyplot as plt"
   ]
  },
  {
   "cell_type": "markdown",
   "metadata": {},
   "source": [
    "### Loading Data"
   ]
  },
  {
   "cell_type": "code",
   "execution_count": 3,
   "metadata": {},
   "outputs": [],
   "source": [
    "collisions = pd.read_csv(\"pd_collisions_datasd.csv\")\n",
    "counts = pd.read_csv(\"traffic_counts_datasd.csv\")"
   ]
  },
  {
   "cell_type": "code",
   "execution_count": 4,
   "metadata": {},
   "outputs": [
    {
     "data": {
      "text/html": [
       "<div>\n",
       "<style scoped>\n",
       "    .dataframe tbody tr th:only-of-type {\n",
       "        vertical-align: middle;\n",
       "    }\n",
       "\n",
       "    .dataframe tbody tr th {\n",
       "        vertical-align: top;\n",
       "    }\n",
       "\n",
       "    .dataframe thead th {\n",
       "        text-align: right;\n",
       "    }\n",
       "</style>\n",
       "<table border=\"1\" class=\"dataframe\">\n",
       "  <thead>\n",
       "    <tr style=\"text-align: right;\">\n",
       "      <th></th>\n",
       "      <th>report_id</th>\n",
       "      <th>date_time</th>\n",
       "      <th>police_beat</th>\n",
       "      <th>street_no</th>\n",
       "      <th>street_dir</th>\n",
       "      <th>street_name</th>\n",
       "      <th>street_type</th>\n",
       "      <th>cross_st_dir</th>\n",
       "      <th>cross_st_name</th>\n",
       "      <th>cross_st_type</th>\n",
       "      <th>violation_section</th>\n",
       "      <th>violation_type</th>\n",
       "      <th>charge_desc</th>\n",
       "      <th>injured</th>\n",
       "      <th>killed</th>\n",
       "      <th>hit_run_lvl</th>\n",
       "    </tr>\n",
       "  </thead>\n",
       "  <tbody>\n",
       "    <tr>\n",
       "      <th>0</th>\n",
       "      <td>170166</td>\n",
       "      <td>2017-01-01 00:01:00</td>\n",
       "      <td>124</td>\n",
       "      <td>8300</td>\n",
       "      <td></td>\n",
       "      <td>CAM DEL ORO</td>\n",
       "      <td></td>\n",
       "      <td></td>\n",
       "      <td></td>\n",
       "      <td></td>\n",
       "      <td>MISC-HAZ</td>\n",
       "      <td>VC</td>\n",
       "      <td>MISCELLANEOUS HAZARDOUS VIOLATIONS OF THE VEHI...</td>\n",
       "      <td>0</td>\n",
       "      <td>0</td>\n",
       "      <td>MISDEMEANOR</td>\n",
       "    </tr>\n",
       "    <tr>\n",
       "      <th>1</th>\n",
       "      <td>170101</td>\n",
       "      <td>2017-01-01 00:01:00</td>\n",
       "      <td>322</td>\n",
       "      <td>6400</td>\n",
       "      <td></td>\n",
       "      <td>CRAWFORD</td>\n",
       "      <td>STREET</td>\n",
       "      <td></td>\n",
       "      <td></td>\n",
       "      <td></td>\n",
       "      <td>MISC-HAZ</td>\n",
       "      <td>VC</td>\n",
       "      <td>MISCELLANEOUS HAZARDOUS VIOLATIONS OF THE VEHI...</td>\n",
       "      <td>0</td>\n",
       "      <td>0</td>\n",
       "      <td>MISDEMEANOR</td>\n",
       "    </tr>\n",
       "    <tr>\n",
       "      <th>2</th>\n",
       "      <td>170218</td>\n",
       "      <td>2017-01-01 00:01:00</td>\n",
       "      <td>325</td>\n",
       "      <td>8100</td>\n",
       "      <td></td>\n",
       "      <td>ROYAL GORGE</td>\n",
       "      <td>DRIVE</td>\n",
       "      <td></td>\n",
       "      <td></td>\n",
       "      <td></td>\n",
       "      <td>22107</td>\n",
       "      <td>VC</td>\n",
       "      <td>TURNING MOVEMENTS AND REQUIRED SIGNALS</td>\n",
       "      <td>0</td>\n",
       "      <td>0</td>\n",
       "      <td>MISDEMEANOR</td>\n",
       "    </tr>\n",
       "  </tbody>\n",
       "</table>\n",
       "</div>"
      ],
      "text/plain": [
       "  report_id            date_time  police_beat  street_no street_dir  \\\n",
       "0    170166  2017-01-01 00:01:00          124       8300              \n",
       "1    170101  2017-01-01 00:01:00          322       6400              \n",
       "2    170218  2017-01-01 00:01:00          325       8100              \n",
       "\n",
       "   street_name street_type cross_st_dir cross_st_name cross_st_type  \\\n",
       "0  CAM DEL ORO                                                        \n",
       "1     CRAWFORD      STREET                                            \n",
       "2  ROYAL GORGE       DRIVE                                            \n",
       "\n",
       "  violation_section violation_type  \\\n",
       "0          MISC-HAZ             VC   \n",
       "1          MISC-HAZ             VC   \n",
       "2             22107             VC   \n",
       "\n",
       "                                         charge_desc  injured  killed  \\\n",
       "0  MISCELLANEOUS HAZARDOUS VIOLATIONS OF THE VEHI...        0       0   \n",
       "1  MISCELLANEOUS HAZARDOUS VIOLATIONS OF THE VEHI...        0       0   \n",
       "2             TURNING MOVEMENTS AND REQUIRED SIGNALS        0       0   \n",
       "\n",
       "   hit_run_lvl  \n",
       "0  MISDEMEANOR  \n",
       "1  MISDEMEANOR  \n",
       "2  MISDEMEANOR  "
      ]
     },
     "execution_count": 4,
     "metadata": {},
     "output_type": "execute_result"
    }
   ],
   "source": [
    "collisions.head(3)"
   ]
  },
  {
   "cell_type": "code",
   "execution_count": 5,
   "metadata": {},
   "outputs": [
    {
     "data": {
      "text/html": [
       "<div>\n",
       "<style scoped>\n",
       "    .dataframe tbody tr th:only-of-type {\n",
       "        vertical-align: middle;\n",
       "    }\n",
       "\n",
       "    .dataframe tbody tr th {\n",
       "        vertical-align: top;\n",
       "    }\n",
       "\n",
       "    .dataframe thead th {\n",
       "        text-align: right;\n",
       "    }\n",
       "</style>\n",
       "<table border=\"1\" class=\"dataframe\">\n",
       "  <thead>\n",
       "    <tr style=\"text-align: right;\">\n",
       "      <th></th>\n",
       "      <th>id</th>\n",
       "      <th>street_name</th>\n",
       "      <th>limits</th>\n",
       "      <th>all_count</th>\n",
       "      <th>northbound_count</th>\n",
       "      <th>southbound_count</th>\n",
       "      <th>eastbound_count</th>\n",
       "      <th>westbound_count</th>\n",
       "      <th>total_count</th>\n",
       "      <th>file_no</th>\n",
       "      <th>count_date</th>\n",
       "    </tr>\n",
       "  </thead>\n",
       "  <tbody>\n",
       "    <tr>\n",
       "      <th>0</th>\n",
       "      <td>01AV018207</td>\n",
       "      <td>01 AV</td>\n",
       "      <td>A ST - ASH ST</td>\n",
       "      <td></td>\n",
       "      <td>18010</td>\n",
       "      <td>NaN</td>\n",
       "      <td>NaN</td>\n",
       "      <td>NaN</td>\n",
       "      <td>18010</td>\n",
       "      <td>0182-07</td>\n",
       "      <td>2007-03-13 00:00:00</td>\n",
       "    </tr>\n",
       "    <tr>\n",
       "      <th>1</th>\n",
       "      <td>01AV015210</td>\n",
       "      <td>01 AV</td>\n",
       "      <td>A ST - ASH ST</td>\n",
       "      <td></td>\n",
       "      <td>20060</td>\n",
       "      <td>NaN</td>\n",
       "      <td>NaN</td>\n",
       "      <td>NaN</td>\n",
       "      <td>20060</td>\n",
       "      <td>0152-10</td>\n",
       "      <td>2010-03-18 00:00:00</td>\n",
       "    </tr>\n",
       "    <tr>\n",
       "      <th>2</th>\n",
       "      <td>01AV018213</td>\n",
       "      <td>01 AV</td>\n",
       "      <td>A ST - ASH ST</td>\n",
       "      <td></td>\n",
       "      <td>19597</td>\n",
       "      <td>NaN</td>\n",
       "      <td>NaN</td>\n",
       "      <td>NaN</td>\n",
       "      <td>19597</td>\n",
       "      <td>0182-13</td>\n",
       "      <td>2013-03-12 00:00:00</td>\n",
       "    </tr>\n",
       "  </tbody>\n",
       "</table>\n",
       "</div>"
      ],
      "text/plain": [
       "           id street_name         limits all_count northbound_count  \\\n",
       "0  01AV018207       01 AV  A ST - ASH ST                      18010   \n",
       "1  01AV015210       01 AV  A ST - ASH ST                      20060   \n",
       "2  01AV018213       01 AV  A ST - ASH ST                      19597   \n",
       "\n",
       "   southbound_count  eastbound_count  westbound_count  total_count  file_no  \\\n",
       "0               NaN              NaN              NaN        18010  0182-07   \n",
       "1               NaN              NaN              NaN        20060  0152-10   \n",
       "2               NaN              NaN              NaN        19597  0182-13   \n",
       "\n",
       "            count_date  \n",
       "0  2007-03-13 00:00:00  \n",
       "1  2010-03-18 00:00:00  \n",
       "2  2013-03-12 00:00:00  "
      ]
     },
     "execution_count": 5,
     "metadata": {},
     "output_type": "execute_result"
    }
   ],
   "source": [
    "counts.head(3)"
   ]
  },
  {
   "cell_type": "markdown",
   "metadata": {},
   "source": [
    "### What do the csvs include?"
   ]
  },
  {
   "cell_type": "markdown",
   "metadata": {},
   "source": [
    "## Pandas Tutorial"
   ]
  },
  {
   "cell_type": "markdown",
   "metadata": {},
   "source": [
    "Let's see how we can use Pandas to clean, filter, and manipulate our data so that you can learn how to use it if you don't already, and maybe get some ideas on what you could do."
   ]
  },
  {
   "cell_type": "markdown",
   "metadata": {},
   "source": [
    "Before we can work on anything else, let's have a look at what data are included.\n",
    "\n",
    "#### Collisions\n",
    "\n",
    "The collisions dataset comes with information about when the collision occurred, what police beat the collision occurred in, street number, name, and type, violation section, type, and charge description.\n",
    "\n",
    "#### Volumes\n",
    "\n",
    "The volumes dataset contains info on the street name, number of cars going north, south, east, and west, the total count, and when the count of cars occurred."
   ]
  },
  {
   "cell_type": "markdown",
   "metadata": {},
   "source": [
    "### Selecting data"
   ]
  },
  {
   "cell_type": "code",
   "execution_count": 8,
   "metadata": {},
   "outputs": [
    {
     "data": {
      "text/plain": [
       "0    CAM DEL ORO\n",
       "1       CRAWFORD\n",
       "2    ROYAL GORGE\n",
       "3        VALERIO\n",
       "4           11TH\n",
       "Name: street_name, dtype: object"
      ]
     },
     "execution_count": 8,
     "metadata": {},
     "output_type": "execute_result"
    }
   ],
   "source": [
    "collisions['street_name'].head()"
   ]
  },
  {
   "cell_type": "code",
   "execution_count": 15,
   "metadata": {},
   "outputs": [
    {
     "data": {
      "text/html": [
       "<div>\n",
       "<style scoped>\n",
       "    .dataframe tbody tr th:only-of-type {\n",
       "        vertical-align: middle;\n",
       "    }\n",
       "\n",
       "    .dataframe tbody tr th {\n",
       "        vertical-align: top;\n",
       "    }\n",
       "\n",
       "    .dataframe thead th {\n",
       "        text-align: right;\n",
       "    }\n",
       "</style>\n",
       "<table border=\"1\" class=\"dataframe\">\n",
       "  <thead>\n",
       "    <tr style=\"text-align: right;\">\n",
       "      <th></th>\n",
       "      <th>report_id</th>\n",
       "      <th>street_name</th>\n",
       "    </tr>\n",
       "  </thead>\n",
       "  <tbody>\n",
       "    <tr>\n",
       "      <th>0</th>\n",
       "      <td>170166</td>\n",
       "      <td>CAM DEL ORO</td>\n",
       "    </tr>\n",
       "    <tr>\n",
       "      <th>1</th>\n",
       "      <td>170101</td>\n",
       "      <td>CRAWFORD</td>\n",
       "    </tr>\n",
       "    <tr>\n",
       "      <th>2</th>\n",
       "      <td>170218</td>\n",
       "      <td>ROYAL GORGE</td>\n",
       "    </tr>\n",
       "    <tr>\n",
       "      <th>3</th>\n",
       "      <td>170082</td>\n",
       "      <td>VALERIO</td>\n",
       "    </tr>\n",
       "    <tr>\n",
       "      <th>4</th>\n",
       "      <td>170097</td>\n",
       "      <td>11TH</td>\n",
       "    </tr>\n",
       "  </tbody>\n",
       "</table>\n",
       "</div>"
      ],
      "text/plain": [
       "  report_id  street_name\n",
       "0    170166  CAM DEL ORO\n",
       "1    170101     CRAWFORD\n",
       "2    170218  ROYAL GORGE\n",
       "3    170082      VALERIO\n",
       "4    170097         11TH"
      ]
     },
     "execution_count": 15,
     "metadata": {},
     "output_type": "execute_result"
    }
   ],
   "source": [
    "collisions[['report_id', 'street_name']].head()"
   ]
  },
  {
   "cell_type": "code",
   "execution_count": 7,
   "metadata": {},
   "outputs": [
    {
     "data": {
      "text/html": [
       "<div>\n",
       "<style scoped>\n",
       "    .dataframe tbody tr th:only-of-type {\n",
       "        vertical-align: middle;\n",
       "    }\n",
       "\n",
       "    .dataframe tbody tr th {\n",
       "        vertical-align: top;\n",
       "    }\n",
       "\n",
       "    .dataframe thead th {\n",
       "        text-align: right;\n",
       "    }\n",
       "</style>\n",
       "<table border=\"1\" class=\"dataframe\">\n",
       "  <thead>\n",
       "    <tr style=\"text-align: right;\">\n",
       "      <th></th>\n",
       "      <th>report_id</th>\n",
       "      <th>date_time</th>\n",
       "      <th>police_beat</th>\n",
       "      <th>street_no</th>\n",
       "      <th>street_dir</th>\n",
       "      <th>street_name</th>\n",
       "      <th>street_type</th>\n",
       "      <th>cross_st_dir</th>\n",
       "      <th>cross_st_name</th>\n",
       "      <th>cross_st_type</th>\n",
       "      <th>violation_section</th>\n",
       "      <th>violation_type</th>\n",
       "      <th>charge_desc</th>\n",
       "      <th>injured</th>\n",
       "      <th>killed</th>\n",
       "      <th>hit_run_lvl</th>\n",
       "    </tr>\n",
       "  </thead>\n",
       "  <tbody>\n",
       "    <tr>\n",
       "      <th>25</th>\n",
       "      <td>170257</td>\n",
       "      <td>2017-01-01 18:07:00</td>\n",
       "      <td>611</td>\n",
       "      <td>3700</td>\n",
       "      <td></td>\n",
       "      <td>SPORTS ARENA</td>\n",
       "      <td>BOULEVARD</td>\n",
       "      <td></td>\n",
       "      <td></td>\n",
       "      <td></td>\n",
       "      <td>22107</td>\n",
       "      <td>VC</td>\n",
       "      <td>TURNING MOVEMENTS AND REQUIRED SIGNALS</td>\n",
       "      <td>4</td>\n",
       "      <td>0</td>\n",
       "      <td>NaN</td>\n",
       "    </tr>\n",
       "    <tr>\n",
       "      <th>27</th>\n",
       "      <td>170146</td>\n",
       "      <td>2017-01-01 19:45:00</td>\n",
       "      <td>822</td>\n",
       "      <td>5800</td>\n",
       "      <td></td>\n",
       "      <td>EL CAJON</td>\n",
       "      <td>BOULEVARD</td>\n",
       "      <td></td>\n",
       "      <td></td>\n",
       "      <td></td>\n",
       "      <td>21801A</td>\n",
       "      <td>VC</td>\n",
       "      <td>LEFT TURN YIELD UNTIL SAFE OR U-TURN</td>\n",
       "      <td>2</td>\n",
       "      <td>0</td>\n",
       "      <td>NaN</td>\n",
       "    </tr>\n",
       "    <tr>\n",
       "      <th>29</th>\n",
       "      <td>170122</td>\n",
       "      <td>2017-01-01 22:15:00</td>\n",
       "      <td>841</td>\n",
       "      <td>3400</td>\n",
       "      <td></td>\n",
       "      <td>COLLEGE</td>\n",
       "      <td>AVENUE</td>\n",
       "      <td></td>\n",
       "      <td></td>\n",
       "      <td></td>\n",
       "      <td>21804</td>\n",
       "      <td>VC</td>\n",
       "      <td>ENTERING HWY FROM PRIVATE ROAD OR DRIVEWAY</td>\n",
       "      <td>3</td>\n",
       "      <td>0</td>\n",
       "      <td>NaN</td>\n",
       "    </tr>\n",
       "  </tbody>\n",
       "</table>\n",
       "</div>"
      ],
      "text/plain": [
       "   report_id            date_time  police_beat  street_no street_dir  \\\n",
       "25    170257  2017-01-01 18:07:00          611       3700              \n",
       "27    170146  2017-01-01 19:45:00          822       5800              \n",
       "29    170122  2017-01-01 22:15:00          841       3400              \n",
       "\n",
       "     street_name street_type cross_st_dir cross_st_name cross_st_type  \\\n",
       "25  SPORTS ARENA   BOULEVARD                                            \n",
       "27      EL CAJON   BOULEVARD                                            \n",
       "29       COLLEGE      AVENUE                                            \n",
       "\n",
       "   violation_section violation_type  \\\n",
       "25             22107             VC   \n",
       "27            21801A             VC   \n",
       "29             21804             VC   \n",
       "\n",
       "                                   charge_desc  injured  killed hit_run_lvl  \n",
       "25      TURNING MOVEMENTS AND REQUIRED SIGNALS        4       0         NaN  \n",
       "27        LEFT TURN YIELD UNTIL SAFE OR U-TURN        2       0         NaN  \n",
       "29  ENTERING HWY FROM PRIVATE ROAD OR DRIVEWAY        3       0         NaN  "
      ]
     },
     "execution_count": 7,
     "metadata": {},
     "output_type": "execute_result"
    }
   ],
   "source": [
    "collisions[collisions['injured'] > 1].head(3)"
   ]
  },
  {
   "cell_type": "code",
   "execution_count": 17,
   "metadata": {},
   "outputs": [
    {
     "data": {
      "text/html": [
       "<div>\n",
       "<style scoped>\n",
       "    .dataframe tbody tr th:only-of-type {\n",
       "        vertical-align: middle;\n",
       "    }\n",
       "\n",
       "    .dataframe tbody tr th {\n",
       "        vertical-align: top;\n",
       "    }\n",
       "\n",
       "    .dataframe thead th {\n",
       "        text-align: right;\n",
       "    }\n",
       "</style>\n",
       "<table border=\"1\" class=\"dataframe\">\n",
       "  <thead>\n",
       "    <tr style=\"text-align: right;\">\n",
       "      <th></th>\n",
       "      <th>report_id</th>\n",
       "      <th>date_time</th>\n",
       "      <th>police_beat</th>\n",
       "      <th>street_no</th>\n",
       "      <th>street_dir</th>\n",
       "      <th>street_name</th>\n",
       "      <th>street_type</th>\n",
       "      <th>cross_st_dir</th>\n",
       "      <th>cross_st_name</th>\n",
       "      <th>cross_st_type</th>\n",
       "      <th>violation_section</th>\n",
       "      <th>violation_type</th>\n",
       "      <th>charge_desc</th>\n",
       "      <th>injured</th>\n",
       "      <th>killed</th>\n",
       "      <th>hit_run_lvl</th>\n",
       "    </tr>\n",
       "  </thead>\n",
       "  <tbody>\n",
       "    <tr>\n",
       "      <th>27</th>\n",
       "      <td>170146</td>\n",
       "      <td>2017-01-01 19:45:00</td>\n",
       "      <td>822</td>\n",
       "      <td>5800</td>\n",
       "      <td></td>\n",
       "      <td>EL CAJON</td>\n",
       "      <td>BOULEVARD</td>\n",
       "      <td></td>\n",
       "      <td></td>\n",
       "      <td></td>\n",
       "      <td>21801A</td>\n",
       "      <td>VC</td>\n",
       "      <td>LEFT TURN YIELD UNTIL SAFE OR U-TURN</td>\n",
       "      <td>2</td>\n",
       "      <td>0</td>\n",
       "      <td>NaN</td>\n",
       "    </tr>\n",
       "    <tr>\n",
       "      <th>29</th>\n",
       "      <td>170122</td>\n",
       "      <td>2017-01-01 22:15:00</td>\n",
       "      <td>841</td>\n",
       "      <td>3400</td>\n",
       "      <td></td>\n",
       "      <td>COLLEGE</td>\n",
       "      <td>AVENUE</td>\n",
       "      <td></td>\n",
       "      <td></td>\n",
       "      <td></td>\n",
       "      <td>21804</td>\n",
       "      <td>VC</td>\n",
       "      <td>ENTERING HWY FROM PRIVATE ROAD OR DRIVEWAY</td>\n",
       "      <td>3</td>\n",
       "      <td>0</td>\n",
       "      <td>NaN</td>\n",
       "    </tr>\n",
       "    <tr>\n",
       "      <th>38</th>\n",
       "      <td>170129</td>\n",
       "      <td>2017-01-02 14:10:00</td>\n",
       "      <td>722</td>\n",
       "      <td>1900</td>\n",
       "      <td></td>\n",
       "      <td>PALM</td>\n",
       "      <td>AVENUE</td>\n",
       "      <td></td>\n",
       "      <td></td>\n",
       "      <td></td>\n",
       "      <td>21703</td>\n",
       "      <td>VC</td>\n",
       "      <td>FOLLOWING TOO CLOSELY</td>\n",
       "      <td>3</td>\n",
       "      <td>0</td>\n",
       "      <td>NaN</td>\n",
       "    </tr>\n",
       "  </tbody>\n",
       "</table>\n",
       "</div>"
      ],
      "text/plain": [
       "   report_id            date_time  police_beat  street_no street_dir  \\\n",
       "27    170146  2017-01-01 19:45:00          822       5800              \n",
       "29    170122  2017-01-01 22:15:00          841       3400              \n",
       "38    170129  2017-01-02 14:10:00          722       1900              \n",
       "\n",
       "   street_name street_type cross_st_dir cross_st_name cross_st_type  \\\n",
       "27    EL CAJON   BOULEVARD                                            \n",
       "29     COLLEGE      AVENUE                                            \n",
       "38        PALM      AVENUE                                            \n",
       "\n",
       "   violation_section violation_type  \\\n",
       "27            21801A             VC   \n",
       "29             21804             VC   \n",
       "38             21703             VC   \n",
       "\n",
       "                                   charge_desc  injured  killed hit_run_lvl  \n",
       "27        LEFT TURN YIELD UNTIL SAFE OR U-TURN        2       0         NaN  \n",
       "29  ENTERING HWY FROM PRIVATE ROAD OR DRIVEWAY        3       0         NaN  \n",
       "38                       FOLLOWING TOO CLOSELY        3       0         NaN  "
      ]
     },
     "execution_count": 17,
     "metadata": {},
     "output_type": "execute_result"
    }
   ],
   "source": [
    "collisions[(collisions['injured'] > 1) & (collisions['injured'] < 4)].head(3)"
   ]
  },
  {
   "cell_type": "markdown",
   "metadata": {},
   "source": [
    "You can use brackets and column names to filter out information you don't want to look at at the moment. Filtering data is done by creating a boolean array, which is what 'collisions['injured'] > 1' creates, and then putting that in the brackets for collisions.  \n",
    "\n",
    "A boolean array is a list of true and falses that matches the number of rows in the dataset, so true would mean keep the row, false would mean ignore it."
   ]
  },
  {
   "cell_type": "code",
   "execution_count": 8,
   "metadata": {},
   "outputs": [
    {
     "data": {
      "text/plain": [
       "0    False\n",
       "1    False\n",
       "2    False\n",
       "3    False\n",
       "4    False\n",
       "Name: injured, dtype: bool"
      ]
     },
     "execution_count": 8,
     "metadata": {},
     "output_type": "execute_result"
    }
   ],
   "source": [
    "(collisions['injured'] > 1).head()"
   ]
  },
  {
   "cell_type": "markdown",
   "metadata": {},
   "source": [
    "### Locating data: iloc vs loc"
   ]
  },
  {
   "cell_type": "code",
   "execution_count": 9,
   "metadata": {},
   "outputs": [
    {
     "data": {
      "text/html": [
       "<div>\n",
       "<style scoped>\n",
       "    .dataframe tbody tr th:only-of-type {\n",
       "        vertical-align: middle;\n",
       "    }\n",
       "\n",
       "    .dataframe tbody tr th {\n",
       "        vertical-align: top;\n",
       "    }\n",
       "\n",
       "    .dataframe thead th {\n",
       "        text-align: right;\n",
       "    }\n",
       "</style>\n",
       "<table border=\"1\" class=\"dataframe\">\n",
       "  <thead>\n",
       "    <tr style=\"text-align: right;\">\n",
       "      <th></th>\n",
       "      <th>report_id</th>\n",
       "      <th>date_time</th>\n",
       "      <th>police_beat</th>\n",
       "      <th>street_no</th>\n",
       "      <th>street_dir</th>\n",
       "      <th>street_name</th>\n",
       "      <th>street_type</th>\n",
       "      <th>cross_st_dir</th>\n",
       "      <th>cross_st_name</th>\n",
       "      <th>cross_st_type</th>\n",
       "      <th>violation_section</th>\n",
       "      <th>violation_type</th>\n",
       "      <th>charge_desc</th>\n",
       "      <th>injured</th>\n",
       "      <th>killed</th>\n",
       "      <th>hit_run_lvl</th>\n",
       "    </tr>\n",
       "  </thead>\n",
       "  <tbody>\n",
       "    <tr>\n",
       "      <th>0</th>\n",
       "      <td>170166</td>\n",
       "      <td>2017-01-01 00:01:00</td>\n",
       "      <td>124</td>\n",
       "      <td>8300</td>\n",
       "      <td></td>\n",
       "      <td>CAM DEL ORO</td>\n",
       "      <td></td>\n",
       "      <td></td>\n",
       "      <td></td>\n",
       "      <td></td>\n",
       "      <td>MISC-HAZ</td>\n",
       "      <td>VC</td>\n",
       "      <td>MISCELLANEOUS HAZARDOUS VIOLATIONS OF THE VEHI...</td>\n",
       "      <td>0</td>\n",
       "      <td>0</td>\n",
       "      <td>MISDEMEANOR</td>\n",
       "    </tr>\n",
       "    <tr>\n",
       "      <th>1</th>\n",
       "      <td>170101</td>\n",
       "      <td>2017-01-01 00:01:00</td>\n",
       "      <td>322</td>\n",
       "      <td>6400</td>\n",
       "      <td></td>\n",
       "      <td>CRAWFORD</td>\n",
       "      <td>STREET</td>\n",
       "      <td></td>\n",
       "      <td></td>\n",
       "      <td></td>\n",
       "      <td>MISC-HAZ</td>\n",
       "      <td>VC</td>\n",
       "      <td>MISCELLANEOUS HAZARDOUS VIOLATIONS OF THE VEHI...</td>\n",
       "      <td>0</td>\n",
       "      <td>0</td>\n",
       "      <td>MISDEMEANOR</td>\n",
       "    </tr>\n",
       "    <tr>\n",
       "      <th>2</th>\n",
       "      <td>170218</td>\n",
       "      <td>2017-01-01 00:01:00</td>\n",
       "      <td>325</td>\n",
       "      <td>8100</td>\n",
       "      <td></td>\n",
       "      <td>ROYAL GORGE</td>\n",
       "      <td>DRIVE</td>\n",
       "      <td></td>\n",
       "      <td></td>\n",
       "      <td></td>\n",
       "      <td>22107</td>\n",
       "      <td>VC</td>\n",
       "      <td>TURNING MOVEMENTS AND REQUIRED SIGNALS</td>\n",
       "      <td>0</td>\n",
       "      <td>0</td>\n",
       "      <td>MISDEMEANOR</td>\n",
       "    </tr>\n",
       "  </tbody>\n",
       "</table>\n",
       "</div>"
      ],
      "text/plain": [
       "  report_id            date_time  police_beat  street_no street_dir  \\\n",
       "0    170166  2017-01-01 00:01:00          124       8300              \n",
       "1    170101  2017-01-01 00:01:00          322       6400              \n",
       "2    170218  2017-01-01 00:01:00          325       8100              \n",
       "\n",
       "   street_name street_type cross_st_dir cross_st_name cross_st_type  \\\n",
       "0  CAM DEL ORO                                                        \n",
       "1     CRAWFORD      STREET                                            \n",
       "2  ROYAL GORGE       DRIVE                                            \n",
       "\n",
       "  violation_section violation_type  \\\n",
       "0          MISC-HAZ             VC   \n",
       "1          MISC-HAZ             VC   \n",
       "2             22107             VC   \n",
       "\n",
       "                                         charge_desc  injured  killed  \\\n",
       "0  MISCELLANEOUS HAZARDOUS VIOLATIONS OF THE VEHI...        0       0   \n",
       "1  MISCELLANEOUS HAZARDOUS VIOLATIONS OF THE VEHI...        0       0   \n",
       "2             TURNING MOVEMENTS AND REQUIRED SIGNALS        0       0   \n",
       "\n",
       "   hit_run_lvl  \n",
       "0  MISDEMEANOR  \n",
       "1  MISDEMEANOR  \n",
       "2  MISDEMEANOR  "
      ]
     },
     "execution_count": 9,
     "metadata": {},
     "output_type": "execute_result"
    }
   ],
   "source": [
    "collisions.head(3)"
   ]
  },
  {
   "cell_type": "code",
   "execution_count": 10,
   "metadata": {},
   "outputs": [
    {
     "data": {
      "text/plain": [
       "report_id                                                       170101\n",
       "date_time                                          2017-01-01 00:01:00\n",
       "police_beat                                                        322\n",
       "street_no                                                         6400\n",
       "street_dir                                                            \n",
       "street_name                                                   CRAWFORD\n",
       "street_type                                                     STREET\n",
       "cross_st_dir                                                          \n",
       "cross_st_name                                                         \n",
       "cross_st_type                                                         \n",
       "violation_section                                             MISC-HAZ\n",
       "violation_type                                                      VC\n",
       "charge_desc          MISCELLANEOUS HAZARDOUS VIOLATIONS OF THE VEHI...\n",
       "injured                                                              0\n",
       "killed                                                               0\n",
       "hit_run_lvl                                                MISDEMEANOR\n",
       "Name: 1, dtype: object"
      ]
     },
     "execution_count": 10,
     "metadata": {},
     "output_type": "execute_result"
    }
   ],
   "source": [
    "collisions.iloc[1]"
   ]
  },
  {
   "cell_type": "code",
   "execution_count": 11,
   "metadata": {},
   "outputs": [
    {
     "data": {
      "text/plain": [
       "report_id                                                       170101\n",
       "date_time                                          2017-01-01 00:01:00\n",
       "police_beat                                                        322\n",
       "street_no                                                         6400\n",
       "street_dir                                                            \n",
       "street_name                                                   CRAWFORD\n",
       "street_type                                                     STREET\n",
       "cross_st_dir                                                          \n",
       "cross_st_name                                                         \n",
       "cross_st_type                                                         \n",
       "violation_section                                             MISC-HAZ\n",
       "violation_type                                                      VC\n",
       "charge_desc          MISCELLANEOUS HAZARDOUS VIOLATIONS OF THE VEHI...\n",
       "injured                                                              0\n",
       "killed                                                               0\n",
       "hit_run_lvl                                                MISDEMEANOR\n",
       "Name: 1, dtype: object"
      ]
     },
     "execution_count": 11,
     "metadata": {},
     "output_type": "execute_result"
    }
   ],
   "source": [
    "collisions.loc[1]"
   ]
  },
  {
   "cell_type": "markdown",
   "metadata": {},
   "source": [
    "iloc will pull information at the given index, numerically. loc will do the same, except it can pull information when the index is named as well, so you can pass a string.\n",
    "\n",
    "You can also use iloc and loc to pull out multiple rows and columns."
   ]
  },
  {
   "cell_type": "code",
   "execution_count": 12,
   "metadata": {},
   "outputs": [
    {
     "data": {
      "text/html": [
       "<div>\n",
       "<style scoped>\n",
       "    .dataframe tbody tr th:only-of-type {\n",
       "        vertical-align: middle;\n",
       "    }\n",
       "\n",
       "    .dataframe tbody tr th {\n",
       "        vertical-align: top;\n",
       "    }\n",
       "\n",
       "    .dataframe thead th {\n",
       "        text-align: right;\n",
       "    }\n",
       "</style>\n",
       "<table border=\"1\" class=\"dataframe\">\n",
       "  <thead>\n",
       "    <tr style=\"text-align: right;\">\n",
       "      <th></th>\n",
       "      <th>police_beat</th>\n",
       "      <th>street_no</th>\n",
       "      <th>street_dir</th>\n",
       "    </tr>\n",
       "  </thead>\n",
       "  <tbody>\n",
       "    <tr>\n",
       "      <th>1</th>\n",
       "      <td>322</td>\n",
       "      <td>6400</td>\n",
       "      <td></td>\n",
       "    </tr>\n",
       "    <tr>\n",
       "      <th>2</th>\n",
       "      <td>325</td>\n",
       "      <td>8100</td>\n",
       "      <td></td>\n",
       "    </tr>\n",
       "  </tbody>\n",
       "</table>\n",
       "</div>"
      ],
      "text/plain": [
       "   police_beat  street_no street_dir\n",
       "1          322       6400           \n",
       "2          325       8100           "
      ]
     },
     "execution_count": 12,
     "metadata": {},
     "output_type": "execute_result"
    }
   ],
   "source": [
    "collisions.iloc[1:3, 2:5]"
   ]
  },
  {
   "cell_type": "code",
   "execution_count": 13,
   "metadata": {},
   "outputs": [
    {
     "data": {
      "text/html": [
       "<div>\n",
       "<style scoped>\n",
       "    .dataframe tbody tr th:only-of-type {\n",
       "        vertical-align: middle;\n",
       "    }\n",
       "\n",
       "    .dataframe tbody tr th {\n",
       "        vertical-align: top;\n",
       "    }\n",
       "\n",
       "    .dataframe thead th {\n",
       "        text-align: right;\n",
       "    }\n",
       "</style>\n",
       "<table border=\"1\" class=\"dataframe\">\n",
       "  <thead>\n",
       "    <tr style=\"text-align: right;\">\n",
       "      <th></th>\n",
       "      <th>police_beat</th>\n",
       "      <th>street_no</th>\n",
       "      <th>street_dir</th>\n",
       "    </tr>\n",
       "  </thead>\n",
       "  <tbody>\n",
       "    <tr>\n",
       "      <th>1</th>\n",
       "      <td>322</td>\n",
       "      <td>6400</td>\n",
       "      <td></td>\n",
       "    </tr>\n",
       "    <tr>\n",
       "      <th>2</th>\n",
       "      <td>325</td>\n",
       "      <td>8100</td>\n",
       "      <td></td>\n",
       "    </tr>\n",
       "    <tr>\n",
       "      <th>3</th>\n",
       "      <td>935</td>\n",
       "      <td>5500</td>\n",
       "      <td></td>\n",
       "    </tr>\n",
       "  </tbody>\n",
       "</table>\n",
       "</div>"
      ],
      "text/plain": [
       "   police_beat  street_no street_dir\n",
       "1          322       6400           \n",
       "2          325       8100           \n",
       "3          935       5500           "
      ]
     },
     "execution_count": 13,
     "metadata": {},
     "output_type": "execute_result"
    }
   ],
   "source": [
    "collisions.loc[1:3, \"police_beat\":\"street_dir\"]"
   ]
  },
  {
   "cell_type": "markdown",
   "metadata": {},
   "source": [
    "You can also use slicing to pull out information.  The first parameter is the rows you want to include, and the second parameter are the columns you want to include."
   ]
  },
  {
   "cell_type": "code",
   "execution_count": null,
   "metadata": {},
   "outputs": [],
   "source": []
  }
 ],
 "metadata": {
  "kernelspec": {
   "display_name": "Python 3",
   "language": "python",
   "name": "python3"
  },
  "language_info": {
   "codemirror_mode": {
    "name": "ipython",
    "version": 3
   },
   "file_extension": ".py",
   "mimetype": "text/x-python",
   "name": "python",
   "nbconvert_exporter": "python",
   "pygments_lexer": "ipython3",
   "version": "3.6.8"
  }
 },
 "nbformat": 4,
 "nbformat_minor": 2
}
