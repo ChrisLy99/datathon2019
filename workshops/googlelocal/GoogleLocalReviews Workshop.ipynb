{
 "cells": [
  {
   "cell_type": "markdown",
   "metadata": {},
   "source": [
    "# Welcome to the Google Local Reviews Dataset  \n",
    "This is a jupyter notebook and I'm going to be covering some basics about the Google local reviews dataset so that you have direction to go with and you don't have to worry too much about the pipelining. Before we start lets import some important libraries that we will need. "
   ]
  },
  {
   "cell_type": "code",
   "execution_count": 1,
   "metadata": {},
   "outputs": [],
   "source": [
    "# import libraries\n",
    "import os\n",
    "import io\n",
    "import json\n",
    "import gzip\n",
    "from collections import defaultdict # shoutout\n",
    "import numpy as np\n",
    "import random"
   ]
  },
  {
   "cell_type": "code",
   "execution_count": 2,
   "metadata": {},
   "outputs": [
    {
     "data": {
      "text/plain": [
       "['.DS_Store',\n",
       " 'places.clean.json.gz',\n",
       " 'sample.reviews.json',\n",
       " 'users.clean.json.gz',\n",
       " 'GoogleLocalReviews Workshop.ipynb',\n",
       " 'reviews.clean.json.gz',\n",
       " '.ipynb_checkpoints',\n",
       " '.git']"
      ]
     },
     "execution_count": 2,
     "metadata": {},
     "output_type": "execute_result"
    }
   ],
   "source": [
    "# list current directory\n",
    "os.listdir()"
   ]
  },
  {
   "cell_type": "markdown",
   "metadata": {},
   "source": [
    "## What is json.gz?  \n",
    "It is essentially a zipped or compressed version of a json file. "
   ]
  },
  {
   "cell_type": "code",
   "execution_count": 3,
   "metadata": {},
   "outputs": [],
   "source": [
    "# read in a gz file\n",
    "def readGz(fname):\n",
    "    gz = gzip.open(fname, 'rb')\n",
    "    f = io.BufferedReader(gz)\n",
    "    data = []\n",
    "    \n",
    "    for l in f.readlines():\n",
    "        data.append(eval(l))\n",
    "        \n",
    "    gz.close()\n",
    "    return data\n",
    "#     for l in gzip.open(f):\n",
    "#         yield eval(l)\n",
    "    \n",
    "places = readGz(\"places.clean.json.gz\")"
   ]
  },
  {
   "cell_type": "code",
   "execution_count": 4,
   "metadata": {},
   "outputs": [
    {
     "data": {
      "text/plain": [
       "{'name': 'Diamond Valley Lake Marina',\n",
       " 'price': None,\n",
       " 'address': ['2615 Angler Ave', 'Hemet, CA 92545'],\n",
       " 'hours': [['Monday', [['6:30 am--4:15 pm']]],\n",
       "  ['Tuesday', [['6:30 am--4:15 pm']]],\n",
       "  ['Wednesday', [['6:30 am--4:15 pm']], 1],\n",
       "  ['Thursday', [['6:30 am--4:15 pm']]],\n",
       "  ['Friday', [['6:30 am--4:15 pm']]],\n",
       "  ['Saturday', [['6:30 am--4:15 pm']]],\n",
       "  ['Sunday', [['6:30 am--4:15 pm']]]],\n",
       " 'phone': '(951) 926-7201',\n",
       " 'closed': False,\n",
       " 'gPlusPlaceId': '104699454385822125632',\n",
       " 'gps': [33.703804, -117.003209]}"
      ]
     },
     "execution_count": 4,
     "metadata": {},
     "output_type": "execute_result"
    }
   ],
   "source": [
    "places[0]"
   ]
  },
  {
   "cell_type": "code",
   "execution_count": 5,
   "metadata": {},
   "outputs": [
    {
     "ename": "KeyboardInterrupt",
     "evalue": "",
     "output_type": "error",
     "traceback": [
      "\u001b[0;31m---------------------------------------------------------------------------\u001b[0m",
      "\u001b[0;31mKeyboardInterrupt\u001b[0m                         Traceback (most recent call last)",
      "\u001b[0;32m<ipython-input-5-e1d0438038c7>\u001b[0m in \u001b[0;36m<module>\u001b[0;34m()\u001b[0m\n\u001b[0;32m----> 1\u001b[0;31m \u001b[0musers\u001b[0m \u001b[0;34m=\u001b[0m \u001b[0mreadGz\u001b[0m\u001b[0;34m(\u001b[0m\u001b[0;34m\"users.clean.json.gz\"\u001b[0m\u001b[0;34m)\u001b[0m\u001b[0;34m\u001b[0m\u001b[0m\n\u001b[0m\u001b[1;32m      2\u001b[0m \u001b[0;34m\u001b[0m\u001b[0m\n\u001b[1;32m      3\u001b[0m \u001b[0musers\u001b[0m\u001b[0;34m[\u001b[0m\u001b[0;36m0\u001b[0m\u001b[0;34m]\u001b[0m\u001b[0;34m\u001b[0m\u001b[0m\n",
      "\u001b[0;32m<ipython-input-3-2c467fb91932>\u001b[0m in \u001b[0;36mreadGz\u001b[0;34m(fname)\u001b[0m\n\u001b[1;32m      6\u001b[0m \u001b[0;34m\u001b[0m\u001b[0m\n\u001b[1;32m      7\u001b[0m     \u001b[0;32mfor\u001b[0m \u001b[0ml\u001b[0m \u001b[0;32min\u001b[0m \u001b[0mf\u001b[0m\u001b[0;34m.\u001b[0m\u001b[0mreadlines\u001b[0m\u001b[0;34m(\u001b[0m\u001b[0;34m)\u001b[0m\u001b[0;34m:\u001b[0m\u001b[0;34m\u001b[0m\u001b[0m\n\u001b[0;32m----> 8\u001b[0;31m         \u001b[0mdata\u001b[0m\u001b[0;34m.\u001b[0m\u001b[0mappend\u001b[0m\u001b[0;34m(\u001b[0m\u001b[0meval\u001b[0m\u001b[0;34m(\u001b[0m\u001b[0ml\u001b[0m\u001b[0;34m)\u001b[0m\u001b[0;34m)\u001b[0m\u001b[0;34m\u001b[0m\u001b[0m\n\u001b[0m\u001b[1;32m      9\u001b[0m \u001b[0;34m\u001b[0m\u001b[0m\n\u001b[1;32m     10\u001b[0m     \u001b[0mgz\u001b[0m\u001b[0;34m.\u001b[0m\u001b[0mclose\u001b[0m\u001b[0;34m(\u001b[0m\u001b[0;34m)\u001b[0m\u001b[0;34m\u001b[0m\u001b[0m\n",
      "\u001b[0;32m<string>\u001b[0m in \u001b[0;36m<module>\u001b[0;34m()\u001b[0m\n",
      "\u001b[0;31mKeyboardInterrupt\u001b[0m: "
     ]
    }
   ],
   "source": [
    "users = readGz(\"users.clean.json.gz\")\n",
    "\n",
    "users[0]"
   ]
  },
  {
   "cell_type": "markdown",
   "metadata": {},
   "source": [
    "## Importing the reviews file (1.4gb)  \n",
    "It takes about ~ 40 mins to load the entire file onto a jupyter notebook. This is why I created a file called sampled.reviews.json which contains randomly sampled 500k reviews from the reviews file. This should be considerably faster to read in."
   ]
  },
  {
   "cell_type": "code",
   "execution_count": 12,
   "metadata": {},
   "outputs": [],
   "source": [
    "import time"
   ]
  },
  {
   "cell_type": "code",
   "execution_count": 13,
   "metadata": {},
   "outputs": [
    {
     "data": {
      "text/plain": [
       "42.139913415908815"
      ]
     },
     "execution_count": 13,
     "metadata": {},
     "output_type": "execute_result"
    }
   ],
   "source": [
    "t0 = time.time()\n",
    "reviews = []\n",
    "for l in readGz(\"reviews.clean.json.gz\"):\n",
    "    reviews.append(l)\n",
    "\n",
    "t1 = time.time()\n",
    "\n",
    "(t1-t0) / 60 # mins"
   ]
  },
  {
   "cell_type": "code",
   "execution_count": 3,
   "metadata": {},
   "outputs": [
    {
     "name": "stdout",
     "output_type": "stream",
     "text": [
      "500000\n"
     ]
    }
   ],
   "source": [
    "# load sample reviews file instead\n",
    "reviews = []\n",
    "with open('sample.reviews.json') as f:\n",
    "    reviews = json.load(f)\n",
    "    print(len(reviews))"
   ]
  },
  {
   "cell_type": "code",
   "execution_count": 4,
   "metadata": {},
   "outputs": [
    {
     "data": {
      "text/plain": [
       "{'rating': 5.0,\n",
       " 'reviewerName': 'Larry Stecklein',\n",
       " 'reviewText': 'Very nice and friendly. Good prices period!',\n",
       " 'categories': ['Liquor Store'],\n",
       " 'gPlusPlaceId': '114925821516688138194',\n",
       " 'unixReviewTime': 1389399259,\n",
       " 'reviewTime': 'Jan 10, 2014',\n",
       " 'gPlusUserId': '116425610241236691097'}"
      ]
     },
     "execution_count": 4,
     "metadata": {},
     "output_type": "execute_result"
    }
   ],
   "source": [
    "reviews[0]"
   ]
  },
  {
   "cell_type": "code",
   "execution_count": 5,
   "metadata": {},
   "outputs": [
    {
     "data": {
      "text/plain": [
       "500000"
      ]
     },
     "execution_count": 5,
     "metadata": {},
     "output_type": "execute_result"
    }
   ],
   "source": [
    "len(reviews)"
   ]
  },
  {
   "cell_type": "markdown",
   "metadata": {},
   "source": [
    "## Utility Structures  \n",
    "When working with reviews I almost always find it beneficial to create a map of user to businesses they have visited"
   ]
  },
  {
   "cell_type": "code",
   "execution_count": 6,
   "metadata": {},
   "outputs": [],
   "source": [
    "users = set()\n",
    "businesses = set()\n",
    "\n",
    "ub_map = defaultdict(list)\n",
    "\n",
    "for r in reviews:\n",
    "    b = r['gPlusPlaceId']\n",
    "    u = r['gPlusUserId']\n",
    "    \n",
    "    users.add(u)\n",
    "    businesses.add(b)\n",
    "    \n",
    "    ub_map[u].append(b)"
   ]
  },
  {
   "cell_type": "markdown",
   "metadata": {},
   "source": [
    "### Example Task: Will a user visit a business?"
   ]
  },
  {
   "cell_type": "markdown",
   "metadata": {},
   "source": [
    "## Data splitting  \n",
    "We split our dataset into a train, validation and test set so that we can evaluate it's performance. So we are splitting it so that the training set is 80% of our dataset, our validation is 10% and test is another 10%."
   ]
  },
  {
   "cell_type": "code",
   "execution_count": 7,
   "metadata": {},
   "outputs": [],
   "source": [
    "size = len(reviews)\n",
    "train_data = reviews[:int(size * 0.8)]\n",
    "validate_data = reviews[int(size * 0.8): int(size * 0.9)]\n",
    "test_data = reviews[int(size * 0.9):]"
   ]
  },
  {
   "cell_type": "markdown",
   "metadata": {},
   "source": [
    "## Baseline  \n",
    "In order to compare the performance of our model we must come up with a baseline. This usually consists of a simple model that performs slightly better than just randomly guessing. A common baseline to use is Item Popularity. In this case it is more of a Business Popularity Model. "
   ]
  },
  {
   "cell_type": "code",
   "execution_count": 8,
   "metadata": {},
   "outputs": [],
   "source": [
    "## business popularity\n",
    "businessPop = defaultdict(int)\n",
    "\n",
    "for r in train_data:\n",
    "    b = r['gPlusPlaceId']\n",
    "    u = r['gPlusUserId']\n",
    "    \n",
    "    businessPop[b] += 1"
   ]
  },
  {
   "cell_type": "code",
   "execution_count": 9,
   "metadata": {},
   "outputs": [],
   "source": [
    "# top 10% most popular business\n",
    "topK = sorted(businessPop.items(), key=lambda x: -x[1])[:int(0.1 * size)]\n",
    "topK = [x[0] for x in topK] # only keep list of place ids"
   ]
  },
  {
   "cell_type": "code",
   "execution_count": 10,
   "metadata": {},
   "outputs": [],
   "source": [
    "# classify whether a user will visit a business or place\n",
    "def willVisit(user, business):\n",
    "    if business in topK: return True\n",
    "    return False"
   ]
  },
  {
   "cell_type": "code",
   "execution_count": 11,
   "metadata": {},
   "outputs": [],
   "source": [
    "topK = set(topK) # remove duplcates"
   ]
  },
  {
   "cell_type": "code",
   "execution_count": 12,
   "metadata": {},
   "outputs": [
    {
     "data": {
      "text/plain": [
       "0.11984"
      ]
     },
     "execution_count": 12,
     "metadata": {},
     "output_type": "execute_result"
    }
   ],
   "source": [
    "corr = 0\n",
    "err = 0\n",
    "\n",
    "for r in validate_data:\n",
    "    b = r['gPlusPlaceId']\n",
    "    u = r['gPlusUserId']\n",
    "    \n",
    "    if willVisit(u, b):\n",
    "        corr += 1\n",
    "    else:\n",
    "        err += 1\n",
    "\n",
    "# validation accuracy\n",
    "corr / (err + corr)"
   ]
  },
  {
   "cell_type": "markdown",
   "metadata": {},
   "source": [
    "### What is wrong with the way we evaluated validation accuracy?"
   ]
  },
  {
   "cell_type": "code",
   "execution_count": 13,
   "metadata": {},
   "outputs": [],
   "source": [
    "# sample negative user business pairs\n",
    "def sample_neg(users, businesses, ub_map, size):\n",
    "    samples = [] # stores negative samples\n",
    "    \n",
    "    while len(samples) < size:\n",
    "        u = random.choice(users)\n",
    "        b = random.choice(businesses)\n",
    "        \n",
    "        if b in ub_map[u]: continue\n",
    "        \n",
    "        samples.append((u, b))\n",
    "    \n",
    "    return samples"
   ]
  },
  {
   "cell_type": "code",
   "execution_count": 14,
   "metadata": {},
   "outputs": [],
   "source": [
    "neg_val_data = sample_neg(list(users), list(businesses), ub_map, len(validate_data))"
   ]
  },
  {
   "cell_type": "code",
   "execution_count": 15,
   "metadata": {},
   "outputs": [
    {
     "data": {
      "text/plain": [
       "0.4971"
      ]
     },
     "execution_count": 15,
     "metadata": {},
     "output_type": "execute_result"
    }
   ],
   "source": [
    "for x in neg_val_data:\n",
    "    b = x[1]\n",
    "    u = x[0]\n",
    "    \n",
    "    if willVisit(u, b):\n",
    "        err += 1\n",
    "    else:\n",
    "        corr += 1\n",
    "\n",
    "# validation accuracy\n",
    "corr / (err + corr)"
   ]
  },
  {
   "cell_type": "markdown",
   "metadata": {},
   "source": [
    "### Results:   \n",
    "Just using the top 10% most popular businesses baseline we get a validation accuracy of ~50% which is not that much greater than guessing. "
   ]
  },
  {
   "cell_type": "markdown",
   "metadata": {},
   "source": [
    "## Features  \n",
    "Let's take a look at how we find features that can help us improve our accuracy"
   ]
  },
  {
   "cell_type": "code",
   "execution_count": 16,
   "metadata": {},
   "outputs": [],
   "source": [
    "businessRating = defaultdict(list)\n",
    "\n",
    "for r in train_data:\n",
    "    b = r['gPlusPlaceId']\n",
    "    rating = r['rating']\n",
    "    \n",
    "    businessRating[b].append(rating)\n",
    "\n",
    "ratings = [sum(businessRating[b]) / len(businessRating[b]) for b in businessRating] # take the average rating"
   ]
  },
  {
   "cell_type": "code",
   "execution_count": null,
   "metadata": {},
   "outputs": [],
   "source": [
    "import matplotlib.pyplot as plt\n",
    "\n",
    "plt.scatter(ratings, list(businessRating.keys()))\n",
    "plt.show()"
   ]
  },
  {
   "cell_type": "markdown",
   "metadata": {},
   "source": [
    "Other ideas could include using a sentiment analysis on the text of reviews, using user and business categories etc."
   ]
  },
  {
   "cell_type": "code",
   "execution_count": null,
   "metadata": {},
   "outputs": [],
   "source": []
  }
 ],
 "metadata": {
  "kernelspec": {
   "display_name": "Python 3",
   "language": "python",
   "name": "python3"
  }
 },
 "nbformat": 4,
 "nbformat_minor": 2
}
